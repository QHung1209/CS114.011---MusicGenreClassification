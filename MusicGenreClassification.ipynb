{
  "cells": [
    {
      "cell_type": "markdown",
      "source": [
        "#Import thư viện"
      ],
      "metadata": {
        "id": "2a6RggTHIBOn"
      }
    },
    {
      "cell_type": "code",
      "execution_count": 1,
      "metadata": {
        "id": "W-fI27spTzTE"
      },
      "outputs": [],
      "source": [
        "import numpy as np\n",
        "import pandas as pd\n",
        "from keras import layers\n",
        "from sklearn.svm import SVC\n",
        "import sklearn.metrics as skm\n",
        "import matplotlib.pyplot as plt\n",
        "from keras.models import Sequential\n",
        "from sklearn.preprocessing import LabelEncoder\n",
        "from sklearn.preprocessing import StandardScaler\n",
        "from sklearn.metrics import classification_report\n",
        "from sklearn.model_selection import train_test_split, GridSearchCV"
      ]
    },
    {
      "cell_type": "code",
      "execution_count": 2,
      "metadata": {
        "colab": {
          "base_uri": "https://localhost:8080/"
        },
        "id": "b6ePIKIYUx5Z",
        "outputId": "faae1951-d119-4240-ae94-cda195f1f3f6"
      },
      "outputs": [
        {
          "output_type": "stream",
          "name": "stdout",
          "text": [
            "Mounted at /content/drive\n"
          ]
        }
      ],
      "source": [
        "from google.colab import drive\n",
        "drive.mount('/content/drive')"
      ]
    },
    {
      "cell_type": "markdown",
      "source": [
        "#Đọc file csv"
      ],
      "metadata": {
        "id": "Ak7ExJS7IIPD"
      }
    },
    {
      "cell_type": "code",
      "execution_count": 3,
      "metadata": {
        "id": "HALMThOvVxCv"
      },
      "outputs": [],
      "source": [
        "df = pd.read_csv(\"/content/drive/MyDrive/CS114/final_genre.csv\")"
      ]
    },
    {
      "cell_type": "code",
      "execution_count": 4,
      "metadata": {
        "id": "aEz4_AwG-bd5",
        "colab": {
          "base_uri": "https://localhost:8080/",
          "height": 794
        },
        "outputId": "50395b9c-3ca9-448d-df56-5c3b30a35e03"
      },
      "outputs": [
        {
          "output_type": "display_data",
          "data": {
            "text/plain": [
              "<Figure size 800x600 with 1 Axes>"
            ],
            "image/png": "[encoded data removed]"
          },
          "metadata": {}
        },
        {
          "output_type": "stream",
          "name": "stdout",
          "text": [
            "Classical    2215\n",
            "Disco        2165\n",
            "Pop          2163\n",
            "Jazz         2152\n",
            "Rock         2105\n",
            "Blues        2081\n",
            "Metal        2065\n",
            "Hip Hop      2053\n",
            "Country      1966\n",
            "RnB          1963\n",
            "Name: label, dtype: int64\n"
          ]
        }
      ],
      "source": [
        "# Count the occurrences of each label\n",
        "label_counts = df['label'].value_counts()\n",
        "# Visualization with a bar chart\n",
        "plt.figure(figsize=(8, 6))\n",
        "label_counts.plot(kind='bar')\n",
        "plt.xlabel('Labels')\n",
        "plt.ylabel('Count')\n",
        "plt.title('Distribution of Labels')\n",
        "plt.xticks(rotation=45)\n",
        "plt.show()\n",
        "print(label_counts)"
      ]
    },
    {
      "cell_type": "code",
      "execution_count": 5,
      "metadata": {
        "id": "b-CIrU2_ZpfQ"
      },
      "outputs": [],
      "source": [
        "X = df.drop(\"label\", axis = 1)\n",
        "y = df[\"label\"]"
      ]
    },
    {
      "cell_type": "code",
      "execution_count": 6,
      "metadata": {
        "id": "NSYcH85KaTjH",
        "colab": {
          "base_uri": "https://localhost:8080/"
        },
        "outputId": "7f3a6840-43ab-4a81-f04d-a7d94c491146"
      },
      "outputs": [
        {
          "output_type": "execute_result",
          "data": {
            "text/plain": [
              "(20928, 54)"
            ]
          },
          "metadata": {},
          "execution_count": 6
        }
      ],
      "source": [
        "X.shape"
      ]
    },
    {
      "cell_type": "code",
      "source": [
        "x_train, x_test, y_train, y_test = train_test_split(X, y, test_size = 0.2, random_state = 42)"
      ],
      "metadata": {
        "id": "rbApoQLwDSQG"
      },
      "execution_count": 7,
      "outputs": []
    },
    {
      "cell_type": "code",
      "execution_count": 8,
      "metadata": {
        "id": "LFq1GqMlPTjo"
      },
      "outputs": [],
      "source": [
        "scaler = StandardScaler()\n",
        "x_train = scaler.fit_transform(x_train)\n",
        "x_test = scaler.transform(x_test)"
      ]
    },
    {
      "cell_type": "markdown",
      "source": [
        "#Sử dụng grid search cho SVM để tìm bộ tham số tối ưu"
      ],
      "metadata": {
        "id": "gUWlh4IwIRG-"
      }
    },
    {
      "cell_type": "code",
      "source": [
        "param_grid = {'C': [0.001, 0.01, 0.1, 1, 10, 100, 100],\n",
        "              'gamma':[0.0001, 0.001, 0.01, 1, 10, 100, 1000]}\n",
        "\n",
        "svm = SVC(kernel='rbf')\n",
        "grid_search = GridSearchCV(svm,\n",
        "                           param_grid,\n",
        "                           cv=3,\n",
        "                           n_jobs=-1)\n",
        "grid_search.fit(x_train, y_train)\n",
        "print(\n",
        "    \"Best parameters are {} \".format(\n",
        "        grid_search.best_params_)\n",
        "\n",
        ")"
      ],
      "metadata": {
        "id": "XHwi6Mxc9E4E",
        "colab": {
          "base_uri": "https://localhost:8080/"
        },
        "outputId": "51248ebb-b5af-43a3-9f29-62afab1e62c3"
      },
      "execution_count": 10,
      "outputs": [
        {
          "output_type": "stream",
          "name": "stdout",
          "text": [
            "Best parameters are {'C': 100, 'gamma': 0.01} \n"
          ]
        }
      ]
    },
    {
      "cell_type": "code",
      "source": [
        "svm = SVC(kernel='rbf', C = 100, gamma = 0.01)"
      ],
      "metadata": {
        "id": "_2XZNrBOvVuR"
      },
      "execution_count": 11,
      "outputs": []
    },
    {
      "cell_type": "code",
      "source": [
        "svm.fit(x_train, y_train)\n",
        "y_pred_svm = svm.predict(x_test)"
      ],
      "metadata": {
        "id": "mLiN3TffVwoX"
      },
      "execution_count": 14,
      "outputs": []
    },
    {
      "cell_type": "code",
      "source": [
        "print(classification_report( y_test, y_pred_svm))"
      ],
      "metadata": {
        "id": "BT16z_tMeGVa",
        "colab": {
          "base_uri": "https://localhost:8080/"
        },
        "outputId": "72109945-4563-4842-ec50-6b50710e1739"
      },
      "execution_count": 15,
      "outputs": [
        {
          "output_type": "stream",
          "name": "stdout",
          "text": [
            "              precision    recall  f1-score   support\n",
            "\n",
            "       Blues       0.76      0.88      0.82       364\n",
            "   Classical       0.94      0.98      0.96       483\n",
            "     Country       0.83      0.80      0.82       390\n",
            "       Disco       0.94      0.94      0.94       462\n",
            "     Hip Hop       0.84      0.85      0.85       407\n",
            "        Jazz       0.89      0.89      0.89       431\n",
            "       Metal       0.86      0.85      0.86       408\n",
            "         Pop       0.75      0.73      0.74       454\n",
            "         RnB       0.82      0.80      0.81       386\n",
            "        Rock       0.76      0.68      0.72       401\n",
            "\n",
            "    accuracy                           0.84      4186\n",
            "   macro avg       0.84      0.84      0.84      4186\n",
            "weighted avg       0.84      0.84      0.84      4186\n",
            "\n"
          ]
        }
      ]
    },
    {
      "cell_type": "code",
      "source": [
        "y = LabelEncoder().fit_transform(y)\n",
        "x_train, x_test, y_train, y_test = train_test_split(X, y, test_size = 0.2, random_state = 42)\n",
        "x_train = scaler.fit_transform(x_train)\n",
        "x_test = scaler.transform(x_test)"
      ],
      "metadata": {
        "id": "hmjqCB4iPLY_"
      },
      "execution_count": 16,
      "outputs": []
    },
    {
      "cell_type": "markdown",
      "source": [
        "#Cài đặt DNN"
      ],
      "metadata": {
        "id": "KDgGJki5IWlO"
      }
    },
    {
      "cell_type": "code",
      "execution_count": 17,
      "metadata": {
        "id": "Gbci7BRo_s7e"
      },
      "outputs": [],
      "source": [
        "def trainModel(model, epochs, optimizer):\n",
        "  batch_size = 128\n",
        "  model.compile(optimizer = optimizer,\n",
        "                loss = 'sparse_categorical_crossentropy',\n",
        "                metrics = 'accuracy')\n",
        "\n",
        "  return model.fit(x_train, y_train,\n",
        "                   validation_data=(x_test, y_test),\n",
        "                   epochs= epochs, batch_size = batch_size)"
      ]
    },
    {
      "cell_type": "code",
      "source": [
        "model = Sequential([ layers.Input(shape=(x_train.shape[1],)), layers.Dense(1024, activation='relu'), layers.Dropout(0.2),\n",
        "\n",
        "layers.Dense(512, activation='relu'),\n",
        "layers.Dropout(0.2),\n",
        "\n",
        "layers.Dense(256, activation='relu'),\n",
        "layers.Dropout(0.2),\n",
        "\n",
        "layers.Dense(128, activation='relu'),\n",
        "layers.Dropout(0.2),\n",
        "\n",
        "layers.Dense(32, activation='relu'),\n",
        "layers.Dropout(0.2),\n",
        "\n",
        "layers.Dense(10, activation='softmax'),\n",
        "])\n",
        "\n",
        "model_history = trainModel(model = model, epochs = 250, optimizer = 'adam')"
      ],
      "metadata": {
        "id": "vrcOznFj83HT",
        "colab": {
          "base_uri": "https://localhost:8080/"
        },
        "outputId": "f47fec2c-ad08-4fab-cb8f-1a30312a7752"
      },
      "execution_count": 18,
      "outputs": [
        {
          "output_type": "stream",
          "name": "stdout",
          "text": [
            "Epoch 1/250\n",
            "131/131 [==============================] - 9s 19ms/step - loss: 1.5866 - accuracy: 0.4463 - val_loss: 1.1676 - val_accuracy: 0.5977\n",
            "Epoch 2/250\n",
            "131/131 [==============================] - 1s 7ms/step - loss: 1.2052 - accuracy: 0.5893 - val_loss: 1.0098 - val_accuracy: 0.6476\n",
            "Epoch 3/250\n",
            "131/131 [==============================] - 1s 6ms/step - loss: 1.0410 - accuracy: 0.6481 - val_loss: 0.9388 - val_accuracy: 0.6777\n",
            "Epoch 4/250\n",
            "131/131 [==============================] - 1s 6ms/step - loss: 0.9217 - accuracy: 0.6855 - val_loss: 0.8349 - val_accuracy: 0.7124\n",
            "Epoch 5/250\n",
            "131/131 [==============================] - 1s 4ms/step - loss: 0.8275 - accuracy: 0.7235 - val_loss: 0.7920 - val_accuracy: 0.7344\n",
            "Epoch 6/250\n",
            "131/131 [==============================] - 1s 5ms/step - loss: 0.7417 - accuracy: 0.7547 - val_loss: 0.7319 - val_accuracy: 0.7530\n",
            "Epoch 7/250\n",
            "131/131 [==============================] - 1s 5ms/step - loss: 0.6707 - accuracy: 0.7757 - val_loss: 0.6911 - val_accuracy: 0.7766\n",
            "Epoch 8/250\n",
            "131/131 [==============================] - 1s 5ms/step - loss: 0.6109 - accuracy: 0.7972 - val_loss: 0.6929 - val_accuracy: 0.7867\n",
            "Epoch 9/250\n",
            "131/131 [==============================] - 1s 5ms/step - loss: 0.5734 - accuracy: 0.8119 - val_loss: 0.6455 - val_accuracy: 0.7929\n",
            "Epoch 10/250\n",
            "131/131 [==============================] - 1s 5ms/step - loss: 0.5083 - accuracy: 0.8346 - val_loss: 0.5957 - val_accuracy: 0.8149\n",
            "Epoch 11/250\n",
            "131/131 [==============================] - 1s 4ms/step - loss: 0.4761 - accuracy: 0.8462 - val_loss: 0.5976 - val_accuracy: 0.8156\n",
            "Epoch 12/250\n",
            "131/131 [==============================] - 1s 5ms/step - loss: 0.4241 - accuracy: 0.8615 - val_loss: 0.5852 - val_accuracy: 0.8244\n",
            "Epoch 13/250\n",
            "131/131 [==============================] - 1s 6ms/step - loss: 0.3954 - accuracy: 0.8713 - val_loss: 0.6065 - val_accuracy: 0.8163\n",
            "Epoch 14/250\n",
            "131/131 [==============================] - 1s 6ms/step - loss: 0.3702 - accuracy: 0.8826 - val_loss: 0.5926 - val_accuracy: 0.8268\n",
            "Epoch 15/250\n",
            "131/131 [==============================] - 1s 7ms/step - loss: 0.3347 - accuracy: 0.8954 - val_loss: 0.5586 - val_accuracy: 0.8371\n",
            "Epoch 16/250\n",
            "131/131 [==============================] - 1s 6ms/step - loss: 0.3169 - accuracy: 0.8983 - val_loss: 0.5461 - val_accuracy: 0.8416\n",
            "Epoch 17/250\n",
            "131/131 [==============================] - 1s 5ms/step - loss: 0.2970 - accuracy: 0.9042 - val_loss: 0.5563 - val_accuracy: 0.8442\n",
            "Epoch 18/250\n",
            "131/131 [==============================] - 1s 4ms/step - loss: 0.2707 - accuracy: 0.9160 - val_loss: 0.5488 - val_accuracy: 0.8476\n",
            "Epoch 19/250\n",
            "131/131 [==============================] - 1s 5ms/step - loss: 0.2534 - accuracy: 0.9203 - val_loss: 0.5601 - val_accuracy: 0.8450\n",
            "Epoch 20/250\n",
            "131/131 [==============================] - 1s 5ms/step - loss: 0.2408 - accuracy: 0.9250 - val_loss: 0.5567 - val_accuracy: 0.8505\n",
            "Epoch 21/250\n",
            "131/131 [==============================] - 1s 5ms/step - loss: 0.2310 - accuracy: 0.9283 - val_loss: 0.5931 - val_accuracy: 0.8478\n",
            "Epoch 22/250\n",
            "131/131 [==============================] - 1s 5ms/step - loss: 0.2250 - accuracy: 0.9292 - val_loss: 0.5557 - val_accuracy: 0.8538\n",
            "Epoch 23/250\n",
            "131/131 [==============================] - 1s 5ms/step - loss: 0.1928 - accuracy: 0.9410 - val_loss: 0.5718 - val_accuracy: 0.8509\n",
            "Epoch 24/250\n",
            "131/131 [==============================] - 1s 5ms/step - loss: 0.1908 - accuracy: 0.9408 - val_loss: 0.5672 - val_accuracy: 0.8600\n",
            "Epoch 25/250\n",
            "131/131 [==============================] - 1s 5ms/step - loss: 0.1838 - accuracy: 0.9422 - val_loss: 0.5581 - val_accuracy: 0.8650\n",
            "Epoch 26/250\n",
            "131/131 [==============================] - 1s 5ms/step - loss: 0.1773 - accuracy: 0.9426 - val_loss: 0.6126 - val_accuracy: 0.8533\n",
            "Epoch 27/250\n",
            "131/131 [==============================] - 1s 5ms/step - loss: 0.1640 - accuracy: 0.9493 - val_loss: 0.5801 - val_accuracy: 0.8598\n",
            "Epoch 28/250\n",
            "131/131 [==============================] - 1s 5ms/step - loss: 0.1564 - accuracy: 0.9536 - val_loss: 0.6053 - val_accuracy: 0.8631\n",
            "Epoch 29/250\n",
            "131/131 [==============================] - 1s 5ms/step - loss: 0.1551 - accuracy: 0.9514 - val_loss: 0.5746 - val_accuracy: 0.8643\n",
            "Epoch 30/250\n",
            "131/131 [==============================] - 1s 5ms/step - loss: 0.1496 - accuracy: 0.9537 - val_loss: 0.5478 - val_accuracy: 0.8688\n",
            "Epoch 31/250\n",
            "131/131 [==============================] - 1s 5ms/step - loss: 0.1337 - accuracy: 0.9590 - val_loss: 0.6007 - val_accuracy: 0.8622\n",
            "Epoch 32/250\n",
            "131/131 [==============================] - 1s 6ms/step - loss: 0.1346 - accuracy: 0.9590 - val_loss: 0.5814 - val_accuracy: 0.8712\n",
            "Epoch 33/250\n",
            "131/131 [==============================] - 1s 7ms/step - loss: 0.1434 - accuracy: 0.9538 - val_loss: 0.5792 - val_accuracy: 0.8657\n",
            "Epoch 34/250\n",
            "131/131 [==============================] - 1s 7ms/step - loss: 0.1279 - accuracy: 0.9608 - val_loss: 0.6000 - val_accuracy: 0.8619\n",
            "Epoch 35/250\n",
            "131/131 [==============================] - 1s 6ms/step - loss: 0.1209 - accuracy: 0.9638 - val_loss: 0.5887 - val_accuracy: 0.8710\n",
            "Epoch 36/250\n",
            "131/131 [==============================] - 1s 5ms/step - loss: 0.1153 - accuracy: 0.9648 - val_loss: 0.5936 - val_accuracy: 0.8708\n",
            "Epoch 37/250\n",
            "131/131 [==============================] - 1s 7ms/step - loss: 0.1168 - accuracy: 0.9640 - val_loss: 0.5984 - val_accuracy: 0.8722\n",
            "Epoch 38/250\n",
            "131/131 [==============================] - 1s 7ms/step - loss: 0.1096 - accuracy: 0.9671 - val_loss: 0.6152 - val_accuracy: 0.8638\n",
            "Epoch 39/250\n",
            "131/131 [==============================] - 1s 6ms/step - loss: 0.1123 - accuracy: 0.9671 - val_loss: 0.5674 - val_accuracy: 0.8662\n",
            "Epoch 40/250\n",
            "131/131 [==============================] - 1s 6ms/step - loss: 0.1017 - accuracy: 0.9681 - val_loss: 0.6224 - val_accuracy: 0.8705\n",
            "Epoch 41/250\n",
            "131/131 [==============================] - 1s 7ms/step - loss: 0.0945 - accuracy: 0.9705 - val_loss: 0.6167 - val_accuracy: 0.8684\n",
            "Epoch 42/250\n",
            "131/131 [==============================] - 1s 6ms/step - loss: 0.1037 - accuracy: 0.9688 - val_loss: 0.6199 - val_accuracy: 0.8684\n",
            "Epoch 43/250\n",
            "131/131 [==============================] - 1s 5ms/step - loss: 0.1003 - accuracy: 0.9697 - val_loss: 0.6097 - val_accuracy: 0.8782\n",
            "Epoch 44/250\n",
            "131/131 [==============================] - 1s 5ms/step - loss: 0.1078 - accuracy: 0.9679 - val_loss: 0.5892 - val_accuracy: 0.8703\n",
            "Epoch 45/250\n",
            "131/131 [==============================] - 1s 5ms/step - loss: 0.0930 - accuracy: 0.9731 - val_loss: 0.6351 - val_accuracy: 0.8679\n",
            "Epoch 46/250\n",
            "131/131 [==============================] - 1s 5ms/step - loss: 0.0892 - accuracy: 0.9731 - val_loss: 0.6675 - val_accuracy: 0.8684\n",
            "Epoch 47/250\n",
            "131/131 [==============================] - 1s 5ms/step - loss: 0.0913 - accuracy: 0.9724 - val_loss: 0.6073 - val_accuracy: 0.8765\n",
            "Epoch 48/250\n",
            "131/131 [==============================] - 1s 5ms/step - loss: 0.0901 - accuracy: 0.9728 - val_loss: 0.6636 - val_accuracy: 0.8657\n",
            "Epoch 49/250\n",
            "131/131 [==============================] - 1s 6ms/step - loss: 0.0880 - accuracy: 0.9735 - val_loss: 0.5727 - val_accuracy: 0.8739\n",
            "Epoch 50/250\n",
            "131/131 [==============================] - 1s 7ms/step - loss: 0.0853 - accuracy: 0.9750 - val_loss: 0.6436 - val_accuracy: 0.8662\n",
            "Epoch 51/250\n",
            "131/131 [==============================] - 1s 6ms/step - loss: 0.0888 - accuracy: 0.9731 - val_loss: 0.6187 - val_accuracy: 0.8686\n",
            "Epoch 52/250\n",
            "131/131 [==============================] - 1s 6ms/step - loss: 0.0838 - accuracy: 0.9749 - val_loss: 0.6590 - val_accuracy: 0.8734\n",
            "Epoch 53/250\n",
            "131/131 [==============================] - 1s 5ms/step - loss: 0.0838 - accuracy: 0.9738 - val_loss: 0.6393 - val_accuracy: 0.8712\n",
            "Epoch 54/250\n",
            "131/131 [==============================] - 1s 4ms/step - loss: 0.0830 - accuracy: 0.9766 - val_loss: 0.6309 - val_accuracy: 0.8727\n",
            "Epoch 55/250\n",
            "131/131 [==============================] - 1s 5ms/step - loss: 0.0747 - accuracy: 0.9789 - val_loss: 0.6141 - val_accuracy: 0.8736\n",
            "Epoch 56/250\n",
            "131/131 [==============================] - 1s 4ms/step - loss: 0.0729 - accuracy: 0.9775 - val_loss: 0.6588 - val_accuracy: 0.8743\n",
            "Epoch 57/250\n",
            "131/131 [==============================] - 1s 5ms/step - loss: 0.0751 - accuracy: 0.9783 - val_loss: 0.6454 - val_accuracy: 0.8763\n",
            "Epoch 58/250\n",
            "131/131 [==============================] - 1s 5ms/step - loss: 0.0832 - accuracy: 0.9743 - val_loss: 0.6442 - val_accuracy: 0.8631\n",
            "Epoch 59/250\n",
            "131/131 [==============================] - 1s 4ms/step - loss: 0.0739 - accuracy: 0.9769 - val_loss: 0.6946 - val_accuracy: 0.8727\n",
            "Epoch 60/250\n",
            "131/131 [==============================] - 1s 5ms/step - loss: 0.0694 - accuracy: 0.9800 - val_loss: 0.6704 - val_accuracy: 0.8743\n",
            "Epoch 61/250\n",
            "131/131 [==============================] - 1s 5ms/step - loss: 0.0756 - accuracy: 0.9769 - val_loss: 0.6458 - val_accuracy: 0.8758\n",
            "Epoch 62/250\n",
            "131/131 [==============================] - 1s 4ms/step - loss: 0.0766 - accuracy: 0.9773 - val_loss: 0.6181 - val_accuracy: 0.8755\n",
            "Epoch 63/250\n",
            "131/131 [==============================] - 1s 5ms/step - loss: 0.0735 - accuracy: 0.9785 - val_loss: 0.6240 - val_accuracy: 0.8791\n",
            "Epoch 64/250\n",
            "131/131 [==============================] - 1s 5ms/step - loss: 0.0710 - accuracy: 0.9795 - val_loss: 0.6645 - val_accuracy: 0.8748\n",
            "Epoch 65/250\n",
            "131/131 [==============================] - 1s 5ms/step - loss: 0.0753 - accuracy: 0.9794 - val_loss: 0.6165 - val_accuracy: 0.8784\n",
            "Epoch 66/250\n",
            "131/131 [==============================] - 1s 5ms/step - loss: 0.0659 - accuracy: 0.9808 - val_loss: 0.6281 - val_accuracy: 0.8760\n",
            "Epoch 67/250\n",
            "131/131 [==============================] - 1s 4ms/step - loss: 0.0695 - accuracy: 0.9790 - val_loss: 0.6314 - val_accuracy: 0.8720\n",
            "Epoch 68/250\n",
            "131/131 [==============================] - 1s 6ms/step - loss: 0.0694 - accuracy: 0.9808 - val_loss: 0.6718 - val_accuracy: 0.8724\n",
            "Epoch 69/250\n",
            "131/131 [==============================] - 1s 7ms/step - loss: 0.0681 - accuracy: 0.9791 - val_loss: 0.7042 - val_accuracy: 0.8724\n",
            "Epoch 70/250\n",
            "131/131 [==============================] - 1s 7ms/step - loss: 0.0791 - accuracy: 0.9784 - val_loss: 0.6347 - val_accuracy: 0.8715\n",
            "Epoch 71/250\n",
            "131/131 [==============================] - 1s 5ms/step - loss: 0.0594 - accuracy: 0.9824 - val_loss: 0.6775 - val_accuracy: 0.8815\n",
            "Epoch 72/250\n",
            "131/131 [==============================] - 1s 5ms/step - loss: 0.0609 - accuracy: 0.9818 - val_loss: 0.6358 - val_accuracy: 0.8739\n",
            "Epoch 73/250\n",
            "131/131 [==============================] - 1s 5ms/step - loss: 0.0713 - accuracy: 0.9801 - val_loss: 0.6164 - val_accuracy: 0.8703\n",
            "Epoch 74/250\n",
            "131/131 [==============================] - 1s 4ms/step - loss: 0.0658 - accuracy: 0.9805 - val_loss: 0.6357 - val_accuracy: 0.8755\n",
            "Epoch 75/250\n",
            "131/131 [==============================] - 1s 5ms/step - loss: 0.0710 - accuracy: 0.9783 - val_loss: 0.6649 - val_accuracy: 0.8700\n",
            "Epoch 76/250\n",
            "131/131 [==============================] - 1s 5ms/step - loss: 0.0572 - accuracy: 0.9838 - val_loss: 0.6765 - val_accuracy: 0.8784\n",
            "Epoch 77/250\n",
            "131/131 [==============================] - 1s 6ms/step - loss: 0.0599 - accuracy: 0.9829 - val_loss: 0.6518 - val_accuracy: 0.8784\n",
            "Epoch 78/250\n",
            "131/131 [==============================] - 1s 7ms/step - loss: 0.0548 - accuracy: 0.9839 - val_loss: 0.7206 - val_accuracy: 0.8751\n",
            "Epoch 79/250\n",
            "131/131 [==============================] - 1s 6ms/step - loss: 0.0661 - accuracy: 0.9813 - val_loss: 0.6831 - val_accuracy: 0.8753\n",
            "Epoch 80/250\n",
            "131/131 [==============================] - 1s 7ms/step - loss: 0.0559 - accuracy: 0.9825 - val_loss: 0.6669 - val_accuracy: 0.8765\n",
            "Epoch 81/250\n",
            "131/131 [==============================] - 2s 13ms/step - loss: 0.0673 - accuracy: 0.9810 - val_loss: 0.6460 - val_accuracy: 0.8810\n",
            "Epoch 82/250\n",
            "131/131 [==============================] - 1s 6ms/step - loss: 0.0513 - accuracy: 0.9849 - val_loss: 0.7247 - val_accuracy: 0.8741\n",
            "Epoch 83/250\n",
            "131/131 [==============================] - 1s 5ms/step - loss: 0.0547 - accuracy: 0.9836 - val_loss: 0.6819 - val_accuracy: 0.8717\n",
            "Epoch 84/250\n",
            "131/131 [==============================] - 1s 6ms/step - loss: 0.0543 - accuracy: 0.9855 - val_loss: 0.6856 - val_accuracy: 0.8748\n",
            "Epoch 85/250\n",
            "131/131 [==============================] - 1s 6ms/step - loss: 0.0535 - accuracy: 0.9844 - val_loss: 0.6746 - val_accuracy: 0.8786\n",
            "Epoch 86/250\n",
            "131/131 [==============================] - 1s 6ms/step - loss: 0.0553 - accuracy: 0.9836 - val_loss: 0.7293 - val_accuracy: 0.8751\n",
            "Epoch 87/250\n",
            "131/131 [==============================] - 1s 6ms/step - loss: 0.0609 - accuracy: 0.9820 - val_loss: 0.7020 - val_accuracy: 0.8727\n",
            "Epoch 88/250\n",
            "131/131 [==============================] - 1s 5ms/step - loss: 0.0575 - accuracy: 0.9831 - val_loss: 0.6528 - val_accuracy: 0.8746\n",
            "Epoch 89/250\n",
            "131/131 [==============================] - 1s 5ms/step - loss: 0.0565 - accuracy: 0.9849 - val_loss: 0.6786 - val_accuracy: 0.8760\n",
            "Epoch 90/250\n",
            "131/131 [==============================] - 1s 5ms/step - loss: 0.0592 - accuracy: 0.9831 - val_loss: 0.6856 - val_accuracy: 0.8794\n",
            "Epoch 91/250\n",
            "131/131 [==============================] - 1s 4ms/step - loss: 0.0554 - accuracy: 0.9839 - val_loss: 0.6768 - val_accuracy: 0.8825\n",
            "Epoch 92/250\n",
            "131/131 [==============================] - 1s 4ms/step - loss: 0.0449 - accuracy: 0.9865 - val_loss: 0.7525 - val_accuracy: 0.8736\n",
            "Epoch 93/250\n",
            "131/131 [==============================] - 1s 5ms/step - loss: 0.0501 - accuracy: 0.9841 - val_loss: 0.7160 - val_accuracy: 0.8779\n",
            "Epoch 94/250\n",
            "131/131 [==============================] - 1s 4ms/step - loss: 0.0599 - accuracy: 0.9842 - val_loss: 0.6838 - val_accuracy: 0.8751\n",
            "Epoch 95/250\n",
            "131/131 [==============================] - 1s 4ms/step - loss: 0.0515 - accuracy: 0.9862 - val_loss: 0.6807 - val_accuracy: 0.8791\n",
            "Epoch 96/250\n",
            "131/131 [==============================] - 1s 4ms/step - loss: 0.0537 - accuracy: 0.9848 - val_loss: 0.6785 - val_accuracy: 0.8774\n",
            "Epoch 97/250\n",
            "131/131 [==============================] - 1s 5ms/step - loss: 0.0510 - accuracy: 0.9852 - val_loss: 0.7376 - val_accuracy: 0.8753\n",
            "Epoch 98/250\n",
            "131/131 [==============================] - 1s 5ms/step - loss: 0.0456 - accuracy: 0.9864 - val_loss: 0.6808 - val_accuracy: 0.8806\n",
            "Epoch 99/250\n",
            "131/131 [==============================] - 1s 5ms/step - loss: 0.0565 - accuracy: 0.9845 - val_loss: 0.6405 - val_accuracy: 0.8808\n",
            "Epoch 100/250\n",
            "131/131 [==============================] - 1s 5ms/step - loss: 0.0466 - accuracy: 0.9856 - val_loss: 0.7388 - val_accuracy: 0.8786\n",
            "Epoch 101/250\n",
            "131/131 [==============================] - 1s 5ms/step - loss: 0.0502 - accuracy: 0.9861 - val_loss: 0.7044 - val_accuracy: 0.8758\n",
            "Epoch 102/250\n",
            "131/131 [==============================] - 1s 5ms/step - loss: 0.0533 - accuracy: 0.9848 - val_loss: 0.6529 - val_accuracy: 0.8817\n",
            "Epoch 103/250\n",
            "131/131 [==============================] - 1s 6ms/step - loss: 0.0451 - accuracy: 0.9872 - val_loss: 0.6483 - val_accuracy: 0.8820\n",
            "Epoch 104/250\n",
            "131/131 [==============================] - 1s 6ms/step - loss: 0.0450 - accuracy: 0.9864 - val_loss: 0.7694 - val_accuracy: 0.8765\n",
            "Epoch 105/250\n",
            "131/131 [==============================] - 1s 7ms/step - loss: 0.0523 - accuracy: 0.9849 - val_loss: 0.6927 - val_accuracy: 0.8760\n",
            "Epoch 106/250\n",
            "131/131 [==============================] - 1s 6ms/step - loss: 0.0455 - accuracy: 0.9863 - val_loss: 0.7103 - val_accuracy: 0.8875\n",
            "Epoch 107/250\n",
            "131/131 [==============================] - 1s 5ms/step - loss: 0.0431 - accuracy: 0.9861 - val_loss: 0.7266 - val_accuracy: 0.8779\n",
            "Epoch 108/250\n",
            "131/131 [==============================] - 1s 5ms/step - loss: 0.0480 - accuracy: 0.9866 - val_loss: 0.7133 - val_accuracy: 0.8779\n",
            "Epoch 109/250\n",
            "131/131 [==============================] - 1s 5ms/step - loss: 0.0599 - accuracy: 0.9832 - val_loss: 0.6886 - val_accuracy: 0.8817\n",
            "Epoch 110/250\n",
            "131/131 [==============================] - 1s 5ms/step - loss: 0.0571 - accuracy: 0.9849 - val_loss: 0.7153 - val_accuracy: 0.8698\n",
            "Epoch 111/250\n",
            "131/131 [==============================] - 1s 5ms/step - loss: 0.0473 - accuracy: 0.9841 - val_loss: 0.7473 - val_accuracy: 0.8808\n",
            "Epoch 112/250\n",
            "131/131 [==============================] - 1s 5ms/step - loss: 0.0519 - accuracy: 0.9866 - val_loss: 0.6854 - val_accuracy: 0.8834\n",
            "Epoch 113/250\n",
            "131/131 [==============================] - 1s 5ms/step - loss: 0.0431 - accuracy: 0.9882 - val_loss: 0.7192 - val_accuracy: 0.8853\n",
            "Epoch 114/250\n",
            "131/131 [==============================] - 1s 5ms/step - loss: 0.0512 - accuracy: 0.9845 - val_loss: 0.7101 - val_accuracy: 0.8772\n",
            "Epoch 115/250\n",
            "131/131 [==============================] - 1s 5ms/step - loss: 0.0447 - accuracy: 0.9871 - val_loss: 0.7111 - val_accuracy: 0.8786\n",
            "Epoch 116/250\n",
            "131/131 [==============================] - 1s 9ms/step - loss: 0.0527 - accuracy: 0.9846 - val_loss: 0.6865 - val_accuracy: 0.8832\n",
            "Epoch 117/250\n",
            "131/131 [==============================] - 1s 8ms/step - loss: 0.0445 - accuracy: 0.9874 - val_loss: 0.6789 - val_accuracy: 0.8880\n",
            "Epoch 118/250\n",
            "131/131 [==============================] - 1s 7ms/step - loss: 0.0416 - accuracy: 0.9878 - val_loss: 0.7275 - val_accuracy: 0.8865\n",
            "Epoch 119/250\n",
            "131/131 [==============================] - 1s 7ms/step - loss: 0.0385 - accuracy: 0.9883 - val_loss: 0.7201 - val_accuracy: 0.8860\n",
            "Epoch 120/250\n",
            "131/131 [==============================] - 1s 8ms/step - loss: 0.0419 - accuracy: 0.9887 - val_loss: 0.7674 - val_accuracy: 0.8815\n",
            "Epoch 121/250\n",
            "131/131 [==============================] - 1s 7ms/step - loss: 0.0467 - accuracy: 0.9857 - val_loss: 0.7381 - val_accuracy: 0.8789\n",
            "Epoch 122/250\n",
            "131/131 [==============================] - 1s 8ms/step - loss: 0.0485 - accuracy: 0.9866 - val_loss: 0.7296 - val_accuracy: 0.8798\n",
            "Epoch 123/250\n",
            "131/131 [==============================] - 1s 8ms/step - loss: 0.0471 - accuracy: 0.9869 - val_loss: 0.6979 - val_accuracy: 0.8820\n",
            "Epoch 124/250\n",
            "131/131 [==============================] - 1s 8ms/step - loss: 0.0410 - accuracy: 0.9873 - val_loss: 0.7580 - val_accuracy: 0.8789\n",
            "Epoch 125/250\n",
            "131/131 [==============================] - 2s 14ms/step - loss: 0.0431 - accuracy: 0.9884 - val_loss: 0.6875 - val_accuracy: 0.8813\n",
            "Epoch 126/250\n",
            "131/131 [==============================] - 1s 8ms/step - loss: 0.0450 - accuracy: 0.9863 - val_loss: 0.6849 - val_accuracy: 0.8844\n",
            "Epoch 127/250\n",
            "131/131 [==============================] - 1s 6ms/step - loss: 0.0473 - accuracy: 0.9869 - val_loss: 0.6825 - val_accuracy: 0.8853\n",
            "Epoch 128/250\n",
            "131/131 [==============================] - 1s 4ms/step - loss: 0.0424 - accuracy: 0.9876 - val_loss: 0.7139 - val_accuracy: 0.8853\n",
            "Epoch 129/250\n",
            "131/131 [==============================] - 1s 5ms/step - loss: 0.0410 - accuracy: 0.9889 - val_loss: 0.6993 - val_accuracy: 0.8782\n",
            "Epoch 130/250\n",
            "131/131 [==============================] - 1s 5ms/step - loss: 0.0397 - accuracy: 0.9895 - val_loss: 0.7122 - val_accuracy: 0.8820\n",
            "Epoch 131/250\n",
            "131/131 [==============================] - 1s 5ms/step - loss: 0.0393 - accuracy: 0.9895 - val_loss: 0.7405 - val_accuracy: 0.8808\n",
            "Epoch 132/250\n",
            "131/131 [==============================] - 1s 5ms/step - loss: 0.0458 - accuracy: 0.9863 - val_loss: 0.7301 - val_accuracy: 0.8832\n",
            "Epoch 133/250\n",
            "131/131 [==============================] - 1s 4ms/step - loss: 0.0374 - accuracy: 0.9897 - val_loss: 0.7683 - val_accuracy: 0.8808\n",
            "Epoch 134/250\n",
            "131/131 [==============================] - 1s 5ms/step - loss: 0.0441 - accuracy: 0.9876 - val_loss: 0.7729 - val_accuracy: 0.8803\n",
            "Epoch 135/250\n",
            "131/131 [==============================] - 1s 5ms/step - loss: 0.0370 - accuracy: 0.9889 - val_loss: 0.7380 - val_accuracy: 0.8858\n",
            "Epoch 136/250\n",
            "131/131 [==============================] - 1s 4ms/step - loss: 0.0412 - accuracy: 0.9882 - val_loss: 0.7439 - val_accuracy: 0.8875\n",
            "Epoch 137/250\n",
            "131/131 [==============================] - 1s 4ms/step - loss: 0.0397 - accuracy: 0.9886 - val_loss: 0.6879 - val_accuracy: 0.8851\n",
            "Epoch 138/250\n",
            "131/131 [==============================] - 1s 5ms/step - loss: 0.0420 - accuracy: 0.9892 - val_loss: 0.7526 - val_accuracy: 0.8801\n",
            "Epoch 139/250\n",
            "131/131 [==============================] - 1s 7ms/step - loss: 0.0500 - accuracy: 0.9861 - val_loss: 0.7086 - val_accuracy: 0.8865\n",
            "Epoch 140/250\n",
            "131/131 [==============================] - 1s 6ms/step - loss: 0.0380 - accuracy: 0.9892 - val_loss: 0.7589 - val_accuracy: 0.8794\n",
            "Epoch 141/250\n",
            "131/131 [==============================] - 1s 7ms/step - loss: 0.0513 - accuracy: 0.9860 - val_loss: 0.7235 - val_accuracy: 0.8753\n",
            "Epoch 142/250\n",
            "131/131 [==============================] - 1s 5ms/step - loss: 0.0419 - accuracy: 0.9866 - val_loss: 0.7513 - val_accuracy: 0.8803\n",
            "Epoch 143/250\n",
            "131/131 [==============================] - 1s 5ms/step - loss: 0.0444 - accuracy: 0.9878 - val_loss: 0.6946 - val_accuracy: 0.8784\n",
            "Epoch 144/250\n",
            "131/131 [==============================] - 1s 5ms/step - loss: 0.0322 - accuracy: 0.9906 - val_loss: 0.7552 - val_accuracy: 0.8827\n",
            "Epoch 145/250\n",
            "131/131 [==============================] - 1s 5ms/step - loss: 0.0382 - accuracy: 0.9887 - val_loss: 0.7859 - val_accuracy: 0.8817\n",
            "Epoch 146/250\n",
            "131/131 [==============================] - 1s 5ms/step - loss: 0.0486 - accuracy: 0.9860 - val_loss: 0.6889 - val_accuracy: 0.8803\n",
            "Epoch 147/250\n",
            "131/131 [==============================] - 1s 5ms/step - loss: 0.0307 - accuracy: 0.9903 - val_loss: 0.7392 - val_accuracy: 0.8872\n",
            "Epoch 148/250\n",
            "131/131 [==============================] - 1s 5ms/step - loss: 0.0314 - accuracy: 0.9913 - val_loss: 0.7657 - val_accuracy: 0.8834\n",
            "Epoch 149/250\n",
            "131/131 [==============================] - 1s 4ms/step - loss: 0.0437 - accuracy: 0.9877 - val_loss: 0.7016 - val_accuracy: 0.8820\n",
            "Epoch 150/250\n",
            "131/131 [==============================] - 1s 5ms/step - loss: 0.0371 - accuracy: 0.9901 - val_loss: 0.7625 - val_accuracy: 0.8880\n",
            "Epoch 151/250\n",
            "131/131 [==============================] - 1s 4ms/step - loss: 0.0333 - accuracy: 0.9906 - val_loss: 0.7993 - val_accuracy: 0.8846\n",
            "Epoch 152/250\n",
            "131/131 [==============================] - 1s 5ms/step - loss: 0.0393 - accuracy: 0.9895 - val_loss: 0.7257 - val_accuracy: 0.8856\n",
            "Epoch 153/250\n",
            "131/131 [==============================] - 1s 5ms/step - loss: 0.0394 - accuracy: 0.9891 - val_loss: 0.7227 - val_accuracy: 0.8822\n",
            "Epoch 154/250\n",
            "131/131 [==============================] - 1s 7ms/step - loss: 0.0379 - accuracy: 0.9896 - val_loss: 0.7523 - val_accuracy: 0.8839\n",
            "Epoch 155/250\n",
            "131/131 [==============================] - 1s 6ms/step - loss: 0.0377 - accuracy: 0.9897 - val_loss: 0.7352 - val_accuracy: 0.8834\n",
            "Epoch 156/250\n",
            "131/131 [==============================] - 1s 7ms/step - loss: 0.0300 - accuracy: 0.9919 - val_loss: 0.7535 - val_accuracy: 0.8808\n",
            "Epoch 157/250\n",
            "131/131 [==============================] - 1s 8ms/step - loss: 0.0360 - accuracy: 0.9895 - val_loss: 0.7720 - val_accuracy: 0.8825\n",
            "Epoch 158/250\n",
            "131/131 [==============================] - 1s 8ms/step - loss: 0.0362 - accuracy: 0.9903 - val_loss: 0.6946 - val_accuracy: 0.8853\n",
            "Epoch 159/250\n",
            "131/131 [==============================] - 1s 8ms/step - loss: 0.0391 - accuracy: 0.9891 - val_loss: 0.7591 - val_accuracy: 0.8808\n",
            "Epoch 160/250\n",
            "131/131 [==============================] - 1s 8ms/step - loss: 0.0366 - accuracy: 0.9903 - val_loss: 0.6668 - val_accuracy: 0.8853\n",
            "Epoch 161/250\n",
            "131/131 [==============================] - 1s 7ms/step - loss: 0.0409 - accuracy: 0.9882 - val_loss: 0.6840 - val_accuracy: 0.8849\n",
            "Epoch 162/250\n",
            "131/131 [==============================] - 1s 4ms/step - loss: 0.0308 - accuracy: 0.9915 - val_loss: 0.7301 - val_accuracy: 0.8863\n",
            "Epoch 163/250\n",
            "131/131 [==============================] - 1s 5ms/step - loss: 0.0360 - accuracy: 0.9891 - val_loss: 0.7460 - val_accuracy: 0.8789\n",
            "Epoch 164/250\n",
            "131/131 [==============================] - 1s 5ms/step - loss: 0.0380 - accuracy: 0.9903 - val_loss: 0.7263 - val_accuracy: 0.8820\n",
            "Epoch 165/250\n",
            "131/131 [==============================] - 1s 5ms/step - loss: 0.0423 - accuracy: 0.9881 - val_loss: 0.7056 - val_accuracy: 0.8786\n",
            "Epoch 166/250\n",
            "131/131 [==============================] - 1s 5ms/step - loss: 0.0395 - accuracy: 0.9882 - val_loss: 0.7225 - val_accuracy: 0.8810\n",
            "Epoch 167/250\n",
            "131/131 [==============================] - 1s 5ms/step - loss: 0.0319 - accuracy: 0.9904 - val_loss: 0.7499 - val_accuracy: 0.8870\n",
            "Epoch 168/250\n",
            "131/131 [==============================] - 1s 4ms/step - loss: 0.0457 - accuracy: 0.9878 - val_loss: 0.7291 - val_accuracy: 0.8868\n",
            "Epoch 169/250\n",
            "131/131 [==============================] - 1s 5ms/step - loss: 0.0357 - accuracy: 0.9899 - val_loss: 0.7344 - val_accuracy: 0.8889\n",
            "Epoch 170/250\n",
            "131/131 [==============================] - 1s 5ms/step - loss: 0.0309 - accuracy: 0.9912 - val_loss: 0.7308 - val_accuracy: 0.8829\n",
            "Epoch 171/250\n",
            "131/131 [==============================] - 1s 4ms/step - loss: 0.0455 - accuracy: 0.9877 - val_loss: 0.7049 - val_accuracy: 0.8889\n",
            "Epoch 172/250\n",
            "131/131 [==============================] - 1s 5ms/step - loss: 0.0343 - accuracy: 0.9903 - val_loss: 0.7022 - val_accuracy: 0.8865\n",
            "Epoch 173/250\n",
            "131/131 [==============================] - 1s 5ms/step - loss: 0.0328 - accuracy: 0.9903 - val_loss: 0.7451 - val_accuracy: 0.8846\n",
            "Epoch 174/250\n",
            "131/131 [==============================] - 1s 5ms/step - loss: 0.0344 - accuracy: 0.9897 - val_loss: 0.7944 - val_accuracy: 0.8817\n",
            "Epoch 175/250\n",
            "131/131 [==============================] - 1s 5ms/step - loss: 0.0257 - accuracy: 0.9927 - val_loss: 0.7732 - val_accuracy: 0.8915\n",
            "Epoch 176/250\n",
            "131/131 [==============================] - 1s 5ms/step - loss: 0.0316 - accuracy: 0.9911 - val_loss: 0.8117 - val_accuracy: 0.8839\n",
            "Epoch 177/250\n",
            "131/131 [==============================] - 1s 6ms/step - loss: 0.0294 - accuracy: 0.9921 - val_loss: 0.7641 - val_accuracy: 0.8872\n",
            "Epoch 178/250\n",
            "131/131 [==============================] - 1s 6ms/step - loss: 0.0378 - accuracy: 0.9893 - val_loss: 0.7334 - val_accuracy: 0.8882\n",
            "Epoch 179/250\n",
            "131/131 [==============================] - 1s 7ms/step - loss: 0.0380 - accuracy: 0.9888 - val_loss: 0.7024 - val_accuracy: 0.8889\n",
            "Epoch 180/250\n",
            "131/131 [==============================] - 1s 6ms/step - loss: 0.0235 - accuracy: 0.9932 - val_loss: 0.8079 - val_accuracy: 0.8896\n",
            "Epoch 181/250\n",
            "131/131 [==============================] - 1s 5ms/step - loss: 0.0362 - accuracy: 0.9896 - val_loss: 0.7621 - val_accuracy: 0.8901\n",
            "Epoch 182/250\n",
            "131/131 [==============================] - 1s 5ms/step - loss: 0.0319 - accuracy: 0.9909 - val_loss: 0.7747 - val_accuracy: 0.8849\n",
            "Epoch 183/250\n",
            "131/131 [==============================] - 1s 5ms/step - loss: 0.0319 - accuracy: 0.9919 - val_loss: 0.7461 - val_accuracy: 0.8841\n",
            "Epoch 184/250\n",
            "131/131 [==============================] - 1s 5ms/step - loss: 0.0312 - accuracy: 0.9910 - val_loss: 0.7786 - val_accuracy: 0.8884\n",
            "Epoch 185/250\n",
            "131/131 [==============================] - 1s 4ms/step - loss: 0.0351 - accuracy: 0.9906 - val_loss: 0.7564 - val_accuracy: 0.8832\n",
            "Epoch 186/250\n",
            "131/131 [==============================] - 1s 5ms/step - loss: 0.0384 - accuracy: 0.9898 - val_loss: 0.7657 - val_accuracy: 0.8865\n",
            "Epoch 187/250\n",
            "131/131 [==============================] - 1s 5ms/step - loss: 0.0433 - accuracy: 0.9884 - val_loss: 0.7506 - val_accuracy: 0.8820\n",
            "Epoch 188/250\n",
            "131/131 [==============================] - 1s 5ms/step - loss: 0.0315 - accuracy: 0.9914 - val_loss: 0.7384 - val_accuracy: 0.8798\n",
            "Epoch 189/250\n",
            "131/131 [==============================] - 1s 5ms/step - loss: 0.0279 - accuracy: 0.9919 - val_loss: 0.7746 - val_accuracy: 0.8868\n",
            "Epoch 190/250\n",
            "131/131 [==============================] - 1s 5ms/step - loss: 0.0280 - accuracy: 0.9909 - val_loss: 0.8431 - val_accuracy: 0.8806\n",
            "Epoch 191/250\n",
            "131/131 [==============================] - 1s 5ms/step - loss: 0.0271 - accuracy: 0.9918 - val_loss: 0.8267 - val_accuracy: 0.8877\n",
            "Epoch 192/250\n",
            "131/131 [==============================] - 1s 5ms/step - loss: 0.0289 - accuracy: 0.9916 - val_loss: 0.8172 - val_accuracy: 0.8827\n",
            "Epoch 193/250\n",
            "131/131 [==============================] - 1s 7ms/step - loss: 0.0314 - accuracy: 0.9923 - val_loss: 0.7615 - val_accuracy: 0.8820\n",
            "Epoch 194/250\n",
            "131/131 [==============================] - 1s 6ms/step - loss: 0.0314 - accuracy: 0.9910 - val_loss: 0.7382 - val_accuracy: 0.8880\n",
            "Epoch 195/250\n",
            "131/131 [==============================] - 1s 8ms/step - loss: 0.0336 - accuracy: 0.9906 - val_loss: 0.7649 - val_accuracy: 0.8880\n",
            "Epoch 196/250\n",
            "131/131 [==============================] - 1s 9ms/step - loss: 0.0219 - accuracy: 0.9935 - val_loss: 0.8309 - val_accuracy: 0.8877\n",
            "Epoch 197/250\n",
            "131/131 [==============================] - 1s 8ms/step - loss: 0.0411 - accuracy: 0.9895 - val_loss: 0.6715 - val_accuracy: 0.8892\n",
            "Epoch 198/250\n",
            "131/131 [==============================] - 1s 8ms/step - loss: 0.0334 - accuracy: 0.9909 - val_loss: 0.7294 - val_accuracy: 0.8863\n",
            "Epoch 199/250\n",
            "131/131 [==============================] - 1s 8ms/step - loss: 0.0356 - accuracy: 0.9902 - val_loss: 0.7528 - val_accuracy: 0.8829\n",
            "Epoch 200/250\n",
            "131/131 [==============================] - 1s 7ms/step - loss: 0.0292 - accuracy: 0.9912 - val_loss: 0.7393 - val_accuracy: 0.8880\n",
            "Epoch 201/250\n",
            "131/131 [==============================] - 1s 5ms/step - loss: 0.0261 - accuracy: 0.9918 - val_loss: 0.7671 - val_accuracy: 0.8832\n",
            "Epoch 202/250\n",
            "131/131 [==============================] - 1s 4ms/step - loss: 0.0266 - accuracy: 0.9920 - val_loss: 0.8037 - val_accuracy: 0.8844\n",
            "Epoch 203/250\n",
            "131/131 [==============================] - 1s 4ms/step - loss: 0.0322 - accuracy: 0.9913 - val_loss: 0.7865 - val_accuracy: 0.8887\n",
            "Epoch 204/250\n",
            "131/131 [==============================] - 1s 5ms/step - loss: 0.0378 - accuracy: 0.9901 - val_loss: 0.7393 - val_accuracy: 0.8827\n",
            "Epoch 205/250\n",
            "131/131 [==============================] - 1s 5ms/step - loss: 0.0282 - accuracy: 0.9913 - val_loss: 0.7973 - val_accuracy: 0.8896\n",
            "Epoch 206/250\n",
            "131/131 [==============================] - 1s 5ms/step - loss: 0.0290 - accuracy: 0.9923 - val_loss: 0.8338 - val_accuracy: 0.8858\n",
            "Epoch 207/250\n",
            "131/131 [==============================] - 1s 5ms/step - loss: 0.0249 - accuracy: 0.9934 - val_loss: 0.8371 - val_accuracy: 0.8815\n",
            "Epoch 208/250\n",
            "131/131 [==============================] - 1s 5ms/step - loss: 0.0310 - accuracy: 0.9906 - val_loss: 0.8025 - val_accuracy: 0.8858\n",
            "Epoch 209/250\n",
            "131/131 [==============================] - 1s 5ms/step - loss: 0.0318 - accuracy: 0.9910 - val_loss: 0.8775 - val_accuracy: 0.8865\n",
            "Epoch 210/250\n",
            "131/131 [==============================] - 1s 5ms/step - loss: 0.0296 - accuracy: 0.9924 - val_loss: 0.7840 - val_accuracy: 0.8868\n",
            "Epoch 211/250\n",
            "131/131 [==============================] - 1s 5ms/step - loss: 0.0416 - accuracy: 0.9881 - val_loss: 0.8260 - val_accuracy: 0.8813\n",
            "Epoch 212/250\n",
            "131/131 [==============================] - 1s 5ms/step - loss: 0.0327 - accuracy: 0.9908 - val_loss: 0.8130 - val_accuracy: 0.8877\n",
            "Epoch 213/250\n",
            "131/131 [==============================] - 1s 5ms/step - loss: 0.0301 - accuracy: 0.9923 - val_loss: 0.7672 - val_accuracy: 0.8892\n",
            "Epoch 214/250\n",
            "131/131 [==============================] - 1s 5ms/step - loss: 0.0334 - accuracy: 0.9925 - val_loss: 0.7694 - val_accuracy: 0.8829\n",
            "Epoch 215/250\n",
            "131/131 [==============================] - 1s 5ms/step - loss: 0.0265 - accuracy: 0.9923 - val_loss: 0.7994 - val_accuracy: 0.8846\n",
            "Epoch 216/250\n",
            "131/131 [==============================] - 1s 6ms/step - loss: 0.0297 - accuracy: 0.9924 - val_loss: 0.8190 - val_accuracy: 0.8829\n",
            "Epoch 217/250\n",
            "131/131 [==============================] - 1s 7ms/step - loss: 0.0366 - accuracy: 0.9894 - val_loss: 0.7636 - val_accuracy: 0.8868\n",
            "Epoch 218/250\n",
            "131/131 [==============================] - 1s 6ms/step - loss: 0.0280 - accuracy: 0.9920 - val_loss: 0.7549 - val_accuracy: 0.8899\n",
            "Epoch 219/250\n",
            "131/131 [==============================] - 1s 7ms/step - loss: 0.0274 - accuracy: 0.9926 - val_loss: 0.7645 - val_accuracy: 0.8853\n",
            "Epoch 220/250\n",
            "131/131 [==============================] - 1s 5ms/step - loss: 0.0271 - accuracy: 0.9922 - val_loss: 0.7661 - val_accuracy: 0.8935\n",
            "Epoch 221/250\n",
            "131/131 [==============================] - 1s 5ms/step - loss: 0.0292 - accuracy: 0.9914 - val_loss: 0.7653 - val_accuracy: 0.8865\n",
            "Epoch 222/250\n",
            "131/131 [==============================] - 1s 4ms/step - loss: 0.0297 - accuracy: 0.9916 - val_loss: 0.7152 - val_accuracy: 0.8875\n",
            "Epoch 223/250\n",
            "131/131 [==============================] - 1s 5ms/step - loss: 0.0359 - accuracy: 0.9911 - val_loss: 0.7064 - val_accuracy: 0.8856\n",
            "Epoch 224/250\n",
            "131/131 [==============================] - 1s 5ms/step - loss: 0.0335 - accuracy: 0.9913 - val_loss: 0.7098 - val_accuracy: 0.8892\n",
            "Epoch 225/250\n",
            "131/131 [==============================] - 1s 5ms/step - loss: 0.0306 - accuracy: 0.9916 - val_loss: 0.7636 - val_accuracy: 0.8803\n",
            "Epoch 226/250\n",
            "131/131 [==============================] - 1s 5ms/step - loss: 0.0317 - accuracy: 0.9914 - val_loss: 0.7137 - val_accuracy: 0.8863\n",
            "Epoch 227/250\n",
            "131/131 [==============================] - 1s 5ms/step - loss: 0.0203 - accuracy: 0.9942 - val_loss: 0.7832 - val_accuracy: 0.8846\n",
            "Epoch 228/250\n",
            "131/131 [==============================] - 1s 5ms/step - loss: 0.0226 - accuracy: 0.9939 - val_loss: 0.8275 - val_accuracy: 0.8827\n",
            "Epoch 229/250\n",
            "131/131 [==============================] - 1s 5ms/step - loss: 0.0240 - accuracy: 0.9934 - val_loss: 0.8548 - val_accuracy: 0.8849\n",
            "Epoch 230/250\n",
            "131/131 [==============================] - 1s 5ms/step - loss: 0.0270 - accuracy: 0.9928 - val_loss: 0.8466 - val_accuracy: 0.8858\n",
            "Epoch 231/250\n",
            "131/131 [==============================] - 1s 6ms/step - loss: 0.0331 - accuracy: 0.9913 - val_loss: 0.8029 - val_accuracy: 0.8794\n",
            "Epoch 232/250\n",
            "131/131 [==============================] - 1s 7ms/step - loss: 0.0283 - accuracy: 0.9924 - val_loss: 0.7772 - val_accuracy: 0.8856\n",
            "Epoch 233/250\n",
            "131/131 [==============================] - 1s 6ms/step - loss: 0.0235 - accuracy: 0.9939 - val_loss: 0.8063 - val_accuracy: 0.8856\n",
            "Epoch 234/250\n",
            "131/131 [==============================] - 1s 8ms/step - loss: 0.0256 - accuracy: 0.9936 - val_loss: 0.7499 - val_accuracy: 0.8853\n",
            "Epoch 235/250\n",
            "131/131 [==============================] - 1s 7ms/step - loss: 0.0274 - accuracy: 0.9922 - val_loss: 0.7946 - val_accuracy: 0.8829\n",
            "Epoch 236/250\n",
            "131/131 [==============================] - 1s 7ms/step - loss: 0.0275 - accuracy: 0.9929 - val_loss: 0.9109 - val_accuracy: 0.8784\n",
            "Epoch 237/250\n",
            "131/131 [==============================] - 1s 7ms/step - loss: 0.0363 - accuracy: 0.9900 - val_loss: 0.7885 - val_accuracy: 0.8844\n",
            "Epoch 238/250\n",
            "131/131 [==============================] - 1s 8ms/step - loss: 0.0273 - accuracy: 0.9921 - val_loss: 0.8459 - val_accuracy: 0.8856\n",
            "Epoch 239/250\n",
            "131/131 [==============================] - 1s 8ms/step - loss: 0.0303 - accuracy: 0.9917 - val_loss: 0.7376 - val_accuracy: 0.8837\n",
            "Epoch 240/250\n",
            "131/131 [==============================] - 1s 5ms/step - loss: 0.0315 - accuracy: 0.9911 - val_loss: 0.7792 - val_accuracy: 0.8889\n",
            "Epoch 241/250\n",
            "131/131 [==============================] - 1s 5ms/step - loss: 0.0277 - accuracy: 0.9920 - val_loss: 0.7601 - val_accuracy: 0.8894\n",
            "Epoch 242/250\n",
            "131/131 [==============================] - 1s 5ms/step - loss: 0.0291 - accuracy: 0.9930 - val_loss: 0.7628 - val_accuracy: 0.8860\n",
            "Epoch 243/250\n",
            "131/131 [==============================] - 1s 5ms/step - loss: 0.0226 - accuracy: 0.9940 - val_loss: 0.7825 - val_accuracy: 0.8851\n",
            "Epoch 244/250\n",
            "131/131 [==============================] - 1s 5ms/step - loss: 0.0289 - accuracy: 0.9923 - val_loss: 0.7972 - val_accuracy: 0.8851\n",
            "Epoch 245/250\n",
            "131/131 [==============================] - 1s 5ms/step - loss: 0.0248 - accuracy: 0.9935 - val_loss: 0.7527 - val_accuracy: 0.8901\n",
            "Epoch 246/250\n",
            "131/131 [==============================] - 1s 5ms/step - loss: 0.0319 - accuracy: 0.9922 - val_loss: 0.7271 - val_accuracy: 0.8882\n",
            "Epoch 247/250\n",
            "131/131 [==============================] - 1s 5ms/step - loss: 0.0315 - accuracy: 0.9912 - val_loss: 0.7293 - val_accuracy: 0.8865\n",
            "Epoch 248/250\n",
            "131/131 [==============================] - 1s 5ms/step - loss: 0.0304 - accuracy: 0.9930 - val_loss: 0.7740 - val_accuracy: 0.8849\n",
            "Epoch 249/250\n",
            "131/131 [==============================] - 1s 5ms/step - loss: 0.0395 - accuracy: 0.9896 - val_loss: 0.7317 - val_accuracy: 0.8925\n",
            "Epoch 250/250\n",
            "131/131 [==============================] - 1s 5ms/step - loss: 0.0275 - accuracy: 0.9933 - val_loss: 0.7282 - val_accuracy: 0.8908\n"
          ]
        }
      ]
    },
    {
      "cell_type": "code",
      "source": [
        "test_loss, test_accuracy = model.evaluate(x_test, y_test)\n",
        "\n",
        "print(f'Test Accuracy: {test_accuracy}')"
      ],
      "metadata": {
        "id": "Pv9qz8mBW4Rh",
        "colab": {
          "base_uri": "https://localhost:8080/"
        },
        "outputId": "31409546-3eaa-47f5-d1aa-1a7b3b6b69e4"
      },
      "execution_count": 19,
      "outputs": [
        {
          "output_type": "stream",
          "name": "stdout",
          "text": [
            "131/131 [==============================] - 0s 2ms/step - loss: 0.7282 - accuracy: 0.8908\n",
            "Test Accuracy: 0.8908265829086304\n"
          ]
        }
      ]
    },
    {
      "cell_type": "code",
      "source": [
        "y_pred = model.predict(x_test)\n",
        "y_pred_classes = np.argmax(y_pred, axis=1)"
      ],
      "metadata": {
        "id": "hNMbHGwkDfE_",
        "colab": {
          "base_uri": "https://localhost:8080/"
        },
        "outputId": "6916e8d4-9877-4ed2-f73b-71537e3b41ed"
      },
      "execution_count": 20,
      "outputs": [
        {
          "output_type": "stream",
          "name": "stdout",
          "text": [
            "131/131 [==============================] - 0s 2ms/step\n"
          ]
        }
      ]
    },
    {
      "cell_type": "code",
      "source": [
        "label_mapping = ['Blues', 'Classical', 'Country', 'Disco', 'Hiphop', 'Jazz', 'Metal', 'Pop', 'RnB', 'Rock']"
      ],
      "metadata": {
        "id": "B1MldbvSJbuJ"
      },
      "execution_count": 21,
      "outputs": []
    },
    {
      "cell_type": "code",
      "source": [
        "print(classification_report(y_test, y_pred_classes, target_names=[label_mapping[i] for i in range(10)]))\n"
      ],
      "metadata": {
        "id": "nayHKGyEGGHC",
        "colab": {
          "base_uri": "https://localhost:8080/"
        },
        "outputId": "b09d4a6e-cb51-4b54-be09-bdc4d00b5838"
      },
      "execution_count": 22,
      "outputs": [
        {
          "output_type": "stream",
          "name": "stdout",
          "text": [
            "              precision    recall  f1-score   support\n",
            "\n",
            "       Blues       0.87      0.89      0.88       364\n",
            "   Classical       0.95      0.98      0.96       483\n",
            "     Country       0.87      0.84      0.86       390\n",
            "       Disco       0.93      0.96      0.94       462\n",
            "      Hiphop       0.87      0.90      0.89       407\n",
            "        Jazz       0.95      0.89      0.92       431\n",
            "       Metal       0.93      0.89      0.91       408\n",
            "         Pop       0.83      0.82      0.83       454\n",
            "         RnB       0.84      0.88      0.86       386\n",
            "        Rock       0.86      0.83      0.85       401\n",
            "\n",
            "    accuracy                           0.89      4186\n",
            "   macro avg       0.89      0.89      0.89      4186\n",
            "weighted avg       0.89      0.89      0.89      4186\n",
            "\n"
          ]
        }
      ]
    },
    {
      "cell_type": "code",
      "source": [],
      "metadata": {
        "id": "N_VZaooBPReH"
      },
      "execution_count": null,
      "outputs": []
    }
  ],
  "metadata": {
    "colab": {
      "provenance": [],
      "gpuType": "T4"
    },
    "kernelspec": {
      "display_name": "Python 3",
      "name": "python3"
    },
    "language_info": {
      "name": "python"
    },
    "accelerator": "GPU"
  },
  "nbformat": 4,
  "nbformat_minor": 0
}